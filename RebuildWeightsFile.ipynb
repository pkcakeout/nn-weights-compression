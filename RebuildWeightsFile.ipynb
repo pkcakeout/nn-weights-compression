{
 "cells": [
  {
   "cell_type": "code",
   "execution_count": null,
   "metadata": {},
   "outputs": [],
   "source": [
    "from magic_values import *"
   ]
  },
  {
   "cell_type": "code",
   "execution_count": null,
   "metadata": {},
   "outputs": [],
   "source": []
  },
  {
   "cell_type": "code",
   "execution_count": null,
   "metadata": {},
   "outputs": [],
   "source": [
    "with open(\"test_file\", \"rb\") as f:\n",
    "    data = f.read()\n",
    "    \n",
    "import struct\n",
    "\n",
    "new_data = bytes(data)\n",
    "print(MAGIC_MARKER)\n",
    "\n",
    "while True:\n",
    "    offset = new_data.find(MAGIC_MARKER)\n",
    "    if offset < 0:\n",
    "        break\n",
    "    \n",
    "    read_offset = offset + len(MAGIC_MARKER)\n",
    "    print(new_data[read_offset:][:4])\n",
    "    count = struct.unpack(\"I\", new_data[read_offset:][:4])[0]\n",
    "    read_offset += 4\n",
    "    \n",
    "    print(f\"Found at offset: {hex(offset)}  count: {count}\")\n",
    "    \n",
    "    exponents = new_data[read_offset:read_offset+count]\n",
    "    read_offset += count\n",
    "    mantissas = new_data[read_offset:read_offset+3*count]\n",
    "    read_offset += 3 * count\n",
    "    \n",
    "    exponents = struct.unpack(f\"{count}B\", exponents)\n",
    "    mantissas = struct.unpack(f\"{3*count}B\", mantissas)\n",
    "    \n",
    "    floats = [\n",
    "        (exponents[i] << 23) \n",
    "            | (mantissas[i*3 + 2])\n",
    "            | (mantissas[i*3 + 1] << 8)\n",
    "            | ((mantissas[i*3 + 0] << 16) & 0x007F0000)\n",
    "            | ((mantissas[i*3 + 0] << 24) & 0x80000000)\n",
    "        for i in range(count)\n",
    "    ]\n",
    "    floats = struct.pack(f\"{count}I\", *floats)\n",
    "    \n",
    "    new_data = new_data[:offset] + floats + new_data[read_offset:]\n"
   ]
  },
  {
   "cell_type": "code",
   "execution_count": null,
   "metadata": {},
   "outputs": [],
   "source": [
    "with open(\"reconstructed\", \"wb\") as f:\n",
    "    f.write(new_data)"
   ]
  },
  {
   "cell_type": "code",
   "execution_count": null,
   "metadata": {},
   "outputs": [],
   "source": [
    "offset"
   ]
  },
  {
   "cell_type": "code",
   "execution_count": null,
   "metadata": {},
   "outputs": [],
   "source": []
  },
  {
   "cell_type": "code",
   "execution_count": null,
   "metadata": {},
   "outputs": [],
   "source": []
  },
  {
   "cell_type": "code",
   "execution_count": null,
   "metadata": {},
   "outputs": [],
   "source": []
  }
 ],
 "metadata": {
  "kernelspec": {
   "display_name": "Python 3",
   "language": "python",
   "name": "python3"
  },
  "language_info": {
   "codemirror_mode": {
    "name": "ipython",
    "version": 3
   },
   "file_extension": ".py",
   "mimetype": "text/x-python",
   "name": "python",
   "nbconvert_exporter": "python",
   "pygments_lexer": "ipython3",
   "version": "3.6.5"
  }
 },
 "nbformat": 4,
 "nbformat_minor": 2
}
